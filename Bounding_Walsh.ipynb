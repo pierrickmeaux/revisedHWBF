{
 "cells": [
  {
   "cell_type": "markdown",
   "metadata": {},
   "source": [
    "Import packages:"
   ]
  },
  {
   "cell_type": "code",
   "execution_count": 487,
   "metadata": {},
   "outputs": [],
   "source": [
    "from itertools import product\n",
    "from sage.crypto.boolean_function import BooleanFunction"
   ]
  },
  {
   "cell_type": "markdown",
   "metadata": {},
   "source": [
    "Define an even integer $n\\geq 2$:"
   ]
  },
  {
   "cell_type": "code",
   "execution_count": 488,
   "metadata": {},
   "outputs": [],
   "source": [
    "n = 20\n",
    "n_half = n // 2"
   ]
  },
  {
   "cell_type": "markdown",
   "metadata": {},
   "source": [
    "For a Boolean vector $a=(a_i)_{i\\in[1,n]}\\in\\mathbb F_2^n$, define:\n",
    "- $p=p(a)$ to be the number of odd integers $i$ with $(a_i,a_{i+1})=(0,0)$.\n",
    "- $q=q(a)$ to be the number of odd integers $i$ with $(a_i,a_{i+1})=(1,1)$.\n",
    "- $r=p(a)$ to be the number of odd integers $i$ with $(a_i,a_{i+1})\\in\\{(0,1),(1,0)\\}$.\n",
    "\n",
    "It then holds that $p+q+r=n/2$. Consider then the polynomial $P_a(z)=(-z^2+2z+1)^p\\cdot(-z^2-2z+1)^q\\cdot(z^2+1)^r$. We can write:\n",
    "$$P_a(z)=\\sum_{k=0}^n\\mathsf D_{n,k,a}z^k,\\qquad\\mathsf D_{n,k,a}\\in\\mathbb Z.$$"
   ]
  },
  {
   "cell_type": "code",
   "execution_count": 489,
   "metadata": {},
   "outputs": [],
   "source": [
    "D = {}\n",
    "\n",
    "z = var(\"z\")\n",
    "P = -(z**2) + 2 * z + 1\n",
    "Q = -(z**2) - 2 * z + 1\n",
    "R = z**2 + 1\n",
    "\n",
    "powers_P = [1]\n",
    "powers_Q = [1]\n",
    "powers_R = [1]\n",
    "\n",
    "for r in range(1, n_half + 1):\n",
    "    powers_P.append((powers_P[r - 1] * P).expand())\n",
    "    powers_Q.append((powers_Q[r - 1] * Q).expand())\n",
    "    powers_R.append((powers_R[r - 1] * R).expand())\n",
    "\n",
    "for p in range(n_half + 1):\n",
    "    for q in range(n_half - p + 1):\n",
    "        r = n_half - p - q\n",
    "        D[p, q] = (powers_P[p] * powers_Q[q] * powers_R[r]).list()"
   ]
  },
  {
   "cell_type": "markdown",
   "metadata": {},
   "source": [
    "# Bounding the Walsh transform"
   ]
  },
  {
   "cell_type": "markdown",
   "metadata": {},
   "source": [
    "For $a\\in\\mathbb F_2^n$, we define the following (modified) Walsh transform:\n",
    "$$V(a)=1+\\sum_{k=1}^n\\mathsf D_{n,k,a+g_k},$$\n",
    "where $g_k\\in\\mathbb F_2^n$ is the canonical basis vector having its $1$ at position $2k-1$ if $k\\leq n/2$, and at position $2k-n$ if $k>n/2$."
   ]
  },
  {
   "cell_type": "markdown",
   "metadata": {},
   "source": [
    "The following finds a bound on $\\max_{a\\in\\mathbb F_2^n}|V(a)|$:"
   ]
  },
  {
   "cell_type": "code",
   "execution_count": 490,
   "metadata": {},
   "outputs": [],
   "source": [
    "def get_bound_V():\n",
    "    upper_bounds = []\n",
    "    lower_bounds = []\n",
    "    for p in range(n_half + 1):\n",
    "        for q in range(n_half - p + 1):\n",
    "            tuples = []\n",
    "            if p > 0:\n",
    "                tuples.append((p - 1, q, p - 1, q))\n",
    "            if q > 0:\n",
    "                tuples.append((p, q - 1, p, q - 1))\n",
    "            if p + q < n_half:\n",
    "                tuples.append((p + 1, q, p, q + 1))\n",
    "                tuples.append((p, q + 1, p + 1, q))\n",
    "            upper_bound_pq = 0\n",
    "            lower_bound_pq = 0\n",
    "            for k in range(0, n_half + 1):\n",
    "                upper_bound_pq += max(\n",
    "                    D[p_1, q_1][k] + D[p_2, q_2][k + n_half]\n",
    "                    for (p_1, q_1, p_2, q_2) in tuples\n",
    "                )\n",
    "                lower_bound_pq += min(\n",
    "                    D[p_1, q_1][k] + D[p_2, q_2][k + n_half]\n",
    "                    for (p_1, q_1, p_2, q_2) in tuples\n",
    "                )\n",
    "            upper_bounds.append(upper_bound_pq)\n",
    "            lower_bounds.append(lower_bound_pq)\n",
    "    U = max(upper_bounds)\n",
    "    L = min(lower_bounds)\n",
    "    return max(abs(U), abs(L))"
   ]
  },
  {
   "cell_type": "code",
   "execution_count": 491,
   "metadata": {},
   "outputs": [
    {
     "data": {
      "text/plain": [
       "392168"
      ]
     },
     "execution_count": 491,
     "metadata": {},
     "output_type": "execute_result"
    }
   ],
   "source": [
    "get_bound_V()"
   ]
  }
 ],
 "metadata": {
  "kernelspec": {
   "display_name": "SageMath 10.0",
   "language": "sage",
   "name": "SageMath-10.0"
  },
  "language_info": {
   "codemirror_mode": {
    "name": "ipython",
    "version": 3
   },
   "file_extension": ".py",
   "mimetype": "text/x-python",
   "name": "python",
   "nbconvert_exporter": "python",
   "pygments_lexer": "ipython3",
   "version": "3.11.1"
  }
 },
 "nbformat": 4,
 "nbformat_minor": 4
}

{
 "cells": [
  {
   "cell_type": "markdown",
   "metadata": {},
   "source": [
    "# Revised Hidden Weight Boolean Function"
   ]
  },
  {
   "cell_type": "markdown",
   "metadata": {},
   "source": [
    "Automatic formatting:"
   ]
  },
  {
   "cell_type": "code",
   "execution_count": 1,
   "metadata": {},
   "outputs": [],
   "source": [
    "%load_ext lab_black"
   ]
  },
  {
   "cell_type": "markdown",
   "metadata": {},
   "source": [
    "Define variables:"
   ]
  },
  {
   "cell_type": "code",
   "execution_count": 2,
   "metadata": {},
   "outputs": [],
   "source": [
    "z, p, q, r, u, v = var(\"z p q r u v\")"
   ]
  },
  {
   "cell_type": "markdown",
   "metadata": {},
   "source": [
    "For an even integer $n\\geq 0$ and a Boolean vector $a=(a_i)_{i\\in[1,n]}\\in\\mathbb F_2^n$, define:\n",
    "- $p=p(a)$ to be the number of odd integers $i$ with $(a_i,a_{i+1})=(0,0)$.\n",
    "- $q=q(a)$ to be the number of odd integers $i$ with $(a_i,a_{i+1})=(1,1)$.\n",
    "- $r=p(a)$ to be the number of odd integers $i$ with $(a_i,a_{i+1})\\in\\{(0,1),(1,0)\\}$.\n",
    "\n",
    "It then holds that $p+q+r=n/2$. Consider then the polynomial $P_a(z)=(-z^2+2z+1)^p\\cdot(-z^2-2z+1)^q\\cdot(z^2+1)^r$. We can then write:\n",
    "$$P_a(z)=\\sum_{k=0}^n\\mathsf D_{n,k,a}z^k,\\qquad\\mathsf D_{n,k,a}\\in\\mathbb Z.$$"
   ]
  },
  {
   "cell_type": "code",
   "execution_count": 3,
   "metadata": {},
   "outputs": [],
   "source": [
    "P_a = (-z ^ 2 + 2 * z + 1) ^ p * (-z ^ 2 - 2 * z + 1) ^ q * (z ^ 2 + 1) ^ r"
   ]
  },
  {
   "cell_type": "markdown",
   "metadata": {},
   "source": [
    "Through derivation, we can get $\\mathsf D_{n,k,a}$ explicitly for small $k$:"
   ]
  },
  {
   "cell_type": "code",
   "execution_count": 4,
   "metadata": {},
   "outputs": [
    {
     "name": "stdout",
     "output_type": "stream",
     "text": [
      "D_(n, 3, a) equals:\n",
      "    2/3*(2*p^2 - 4*p*q + 2*q^2 - 9*p - 9*q + 3*r + 7)*(p - q).\n"
     ]
    }
   ],
   "source": [
    "k = 3\n",
    "D_nka = diff(P_a, z, k)(z=0) / factorial(k)\n",
    "print(f\"D_(n, {k}, a) equals:\\n    {D_nka.expand().factor()}.\")"
   ]
  },
  {
   "cell_type": "markdown",
   "metadata": {},
   "source": [
    "It may be useful to express $\\mathsf D_{n,k,a}$ not as a polynomial in $p, q, r$, but rather as a polynomial in $u,v,r$ with $u=p-q$ and $v=p+q$:"
   ]
  },
  {
   "cell_type": "code",
   "execution_count": 5,
   "metadata": {},
   "outputs": [
    {
     "name": "stdout",
     "output_type": "stream",
     "text": [
      "D_(n, 3, a) equals:\n",
      "    2/3*(2*u^2 + 3*r - 9*v + 7)*u.\n"
     ]
    }
   ],
   "source": [
    "k = 3\n",
    "D_nka = diff(P_a, z, k)(z=0) / factorial(k)\n",
    "D_nka = D_nka.subs(p == (v + u) / 2, q=(v - u) / 2)\n",
    "print(f\"D_(n, {k}, a) equals:\\n    {D_nka.expand().factor()}.\")"
   ]
  },
  {
   "cell_type": "markdown",
   "metadata": {},
   "source": [
    "For fixed $n$ and $k$, we would like to understand what the values for $(p,q,r)$ must be in order for $|\\mathsf D_{n,k,a}|$ to be maximal:"
   ]
  },
  {
   "cell_type": "code",
   "execution_count": 6,
   "metadata": {},
   "outputs": [
    {
     "name": "stdout",
     "output_type": "stream",
     "text": [
      "The maximal value of |D_(14, 9, a)| is:\n",
      "    298\n",
      "This maximum is reached at the following values for (p, q, r):\n",
      "    [(1, 6, 0), (6, 1, 0)]\n"
     ]
    }
   ],
   "source": [
    "n = 14\n",
    "k = 9\n",
    "\n",
    "tuples_pqr = []  # Collect the tuples (p, q, r)\n",
    "abs_coeffs = []  # Collect the |D_(n, k, a)| for these tuples (p, q, r)\n",
    "\n",
    "for p in range(n / 2 + 1):\n",
    "    for q in range(n / 2 + 1):\n",
    "        r = n / 2 - p - q\n",
    "        if r < 0:\n",
    "            continue\n",
    "        tuples_pqr.append((p, q, r))\n",
    "        abs_coeffs.append(abs(P_a(p=p, q=q, r=r).list()[k]))\n",
    "\n",
    "max_value = max(abs_coeffs)\n",
    "max_indices = [i for i, value in enumerate(abs_coeffs) if value == max_value]\n",
    "print(f\"The maximal value of |D_({n}, {k}, a)| is:\\n    {max_value}\")\n",
    "print(\n",
    "    f\"This maximum is reached at the following values for (p, q, r):\\n    {[tuples_pqr[i] for i in max_indices]}\"\n",
    ")"
   ]
  }
 ],
 "metadata": {
  "kernelspec": {
   "display_name": "SageMath 10.0",
   "language": "sage",
   "name": "SageMath-10.0"
  },
  "language_info": {
   "codemirror_mode": {
    "name": "ipython",
    "version": 3
   },
   "file_extension": ".py",
   "mimetype": "text/x-python",
   "name": "python",
   "nbconvert_exporter": "python",
   "pygments_lexer": "ipython3",
   "version": "3.11.1"
  }
 },
 "nbformat": 4,
 "nbformat_minor": 4
}

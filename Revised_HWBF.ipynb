{
 "cells": [
  {
   "cell_type": "markdown",
   "metadata": {},
   "source": [
    "# Revised Hidden Weight Boolean Function"
   ]
  },
  {
   "cell_type": "markdown",
   "metadata": {},
   "source": [
    "Automatic formatting:"
   ]
  },
  {
   "cell_type": "code",
   "execution_count": 20,
   "metadata": {},
   "outputs": [
    {
     "name": "stdout",
     "output_type": "stream",
     "text": [
      "The lab_black extension is already loaded. To reload it, use:\n",
      "  %reload_ext lab_black\n"
     ]
    }
   ],
   "source": [
    "%load_ext lab_black"
   ]
  },
  {
   "cell_type": "markdown",
   "metadata": {},
   "source": [
    "Define variables:"
   ]
  },
  {
   "cell_type": "code",
   "execution_count": 21,
   "metadata": {},
   "outputs": [],
   "source": [
    "z, p, q, r, u, v = var(\"z p q r u v\")"
   ]
  },
  {
   "cell_type": "markdown",
   "metadata": {},
   "source": [
    "For an even integer $n\\geq 0$ and a Boolean vector $a=(a_i)_{i\\in[1,n]}\\in\\mathbb F_2^n$, define:\n",
    "- $p=p(a)$ to be the number of odd integers $i$ with $(a_i,a_{i+1})=(0,0)$.\n",
    "- $q=q(a)$ to be the number of odd integers $i$ with $(a_i,a_{i+1})=(1,1)$.\n",
    "- $r=p(a)$ to be the number of odd integers $i$ with $(a_i,a_{i+1})\\in\\{(0,1),(1,0)\\}$.\n",
    "\n",
    "It then holds that $p+q+r=n/2$. Consider then the polynomial $P_a(z)=(-z^2+2z+1)^p\\cdot(-z^2-2z+1)^q\\cdot(z^2+1)^r$. We can then write:\n",
    "$$P_a(z)=\\sum_{k=0}^n\\mathsf D_{n,k,a}z^k,\\qquad\\mathsf D_{n,k,a}\\in\\mathbb Z.$$"
   ]
  },
  {
   "cell_type": "code",
   "execution_count": 22,
   "metadata": {},
   "outputs": [],
   "source": [
    "P_a = (-z ^ 2 + 2 * z + 1) ^ p * (-z ^ 2 - 2 * z + 1) ^ q * (z ^ 2 + 1) ^ r"
   ]
  },
  {
   "cell_type": "markdown",
   "metadata": {},
   "source": [
    "Through derivation, we can get $\\mathsf D_{n,k,a}$ explicitly for small $k$:"
   ]
  },
  {
   "cell_type": "code",
   "execution_count": 23,
   "metadata": {},
   "outputs": [
    {
     "name": "stdout",
     "output_type": "stream",
     "text": [
      "D_(n, 3, a) equals:\n",
      "    2/3*(2*p^2 - 4*p*q + 2*q^2 - 9*p - 9*q + 3*r + 7)*(p - q)\n"
     ]
    }
   ],
   "source": [
    "k = 3\n",
    "\n",
    "D_nka = diff(P_a, z, k)(z=0) / factorial(k)\n",
    "print(f\"D_(n, {k}, a) equals:\\n    {D_nka.expand().factor()}\")"
   ]
  },
  {
   "cell_type": "markdown",
   "metadata": {},
   "source": [
    "For a given $n$, the following outputs $\\mathsf D_{n,k,a}$ for all $k\\in[0,n/2]$:"
   ]
  },
  {
   "cell_type": "code",
   "execution_count": 44,
   "metadata": {},
   "outputs": [
    {
     "name": "stdout",
     "output_type": "stream",
     "text": [
      "D_(16, 0, a) equals:\n",
      "    1\n",
      "D_(16, 1, a) equals:\n",
      "    2*p - 2*q\n",
      "D_(16, 2, a) equals:\n",
      "    2*p^2 - 4*p*q + 2*q^2 - 3*p - 3*q - 6\n",
      "D_(16, 3, a) equals:\n",
      "    2/3*(2*p^2 - 4*p*q + 2*q^2 - 9*p - 9*q - 11)*(p - q)\n",
      "D_(16, 4, a) equals:\n",
      "    2/3*p^4 - 8/3*p^3*q + 4*p^2*q^2 - 8/3*p*q^3 + 2/3*q^4 - 6*p^3 + 6*p^2*q + 6*p*q^2 - 6*q^3 + 11/6*p^2 + 43/3*p*q + 11/6*q^2 + 19/2*p + 19/2*q + 21\n",
      "D_(16, 5, a) equals:\n",
      "    1/15*(4*p^4 - 16*p^3*q + 24*p^2*q^2 - 16*p*q^3 + 4*q^4 - 60*p^3 + 60*p^2*q + 60*p*q^2 - 60*q^3 + 155*p^2 + 230*p*q + 155*q^2 + 75*p + 75*q + 456)*(p - q)\n",
      "D_(16, 6, a) equals:\n",
      "    4/45*p^6 - 8/15*p^5*q + 4/3*p^4*q^2 - 16/9*p^3*q^3 + 4/3*p^2*q^4 - 8/15*p*q^5 + 4/45*q^6 - 2*p^5 + 6*p^4*q - 4*p^3*q^2 - 4*p^2*q^3 + 6*p*q^4 - 2*q^5 + 101/9*p^4 - 80/9*p^3*q - 14/3*p^2*q^2 - 80/9*p*q^3 + 101/9*q^4 - 27/2*p^3 - 9/2*p^2*q - 9/2*p*q^2 - 27/2*q^3 + 2537/90*p^2 - 2807/45*p*q + 2537/90*q^2 - 45*p - 45*q - 56\n",
      "D_(16, 7, a) equals:\n",
      "    1/315*(8*p^6 - 48*p^5*q + 120*p^4*q^2 - 160*p^3*q^3 + 120*p^2*q^4 - 48*p*q^5 + 8*q^6 - 252*p^5 + 756*p^4*q - 504*p^3*q^2 - 504*p^2*q^3 + 756*p*q^4 - 252*q^5 + 2366*p^4 - 1904*p^3*q - 924*p^2*q^2 - 1904*p*q^3 + 2366*q^4 - 7665*p^3 - 3675*p^2*q - 3675*p*q^2 - 7665*q^3 + 14042*p^2 - 5404*p*q + 14042*q^2 - 29883*p - 29883*q - 13896)*(p - q)\n",
      "D_(16, 8, a) equals:\n",
      "    2/315*p^8 - 16/315*p^7*q + 8/45*p^6*q^2 - 16/45*p^5*q^3 + 4/9*p^4*q^4 - 16/45*p^3*q^5 + 8/45*p^2*q^6 - 16/315*p*q^7 + 2/315*q^8 - 4/15*p^7 + 4/3*p^6*q - 12/5*p^5*q^2 + 4/3*p^4*q^3 + 4/3*p^3*q^4 - 12/5*p^2*q^5 + 4/3*p*q^6 - 4/15*q^7 + 167/45*p^6 - 154/15*p^5*q + 23/3*p^4*q^2 - 20/9*p^3*q^3 + 23/3*p^2*q^4 - 154/15*p*q^5 + 167/45*q^6 - 64/3*p^5 + 28*p^4*q - 20/3*p^3*q^2 - 20/3*p^2*q^3 + 28*p*q^4 - 64/3*q^5 + 22567/360*p^4 - 6097/90*p^3*q + 3847/60*p^2*q^2 - 6097/90*p*q^3 + 22567/360*q^4 - 2873/20*p^3 + 1973/20*p^2*q + 1973/20*p*q^2 - 2873/20*q^3 + 31247/280*p^2 + 11663/140*p*q + 31247/280*q^2 + 173/4*p + 173/4*q + 126\n"
     ]
    }
   ],
   "source": [
    "n = 16\n",
    "\n",
    "for k in range(n / 2 + 1):\n",
    "    D_nka = diff(P_a, z, k)(z=0) / factorial(k)\n",
    "    print(f\"D_({n}, {k}, a) equals:\\n    {D_nka.expand().subs(r=n/2-p-q).factor()}\")"
   ]
  },
  {
   "cell_type": "markdown",
   "metadata": {},
   "source": [
    "It may be useful to express $\\mathsf D_{n,k,a}$ not as a polynomial in $p, q, r$, but rather as a polynomial in $u,v,r$ with $u=p-q$ and $v=p+q$:"
   ]
  },
  {
   "cell_type": "code",
   "execution_count": 42,
   "metadata": {},
   "outputs": [
    {
     "name": "stdout",
     "output_type": "stream",
     "text": [
      "D_(n, 3, a) equals:\n",
      "    2/3*(2*u^2 + 3*r - 9*v + 7)*u\n"
     ]
    }
   ],
   "source": [
    "k = 3\n",
    "\n",
    "D_nka = diff(P_a, z, k)(z=0) / factorial(k)\n",
    "D_nka = D_nka.subs(p=(v + u) / 2, q=(v - u) / 2)\n",
    "print(f\"D_(n, {k}, a) equals:\\n    {D_nka.expand().factor()}\")"
   ]
  },
  {
   "cell_type": "markdown",
   "metadata": {},
   "source": [
    "For fixed $n$ and $k$, we would like to understand what the values for $(p,q,r)$ must be in order for $|\\mathsf D_{n,k,a}|$ to be maximal:"
   ]
  },
  {
   "cell_type": "code",
   "execution_count": 26,
   "metadata": {},
   "outputs": [
    {
     "name": "stdout",
     "output_type": "stream",
     "text": [
      "The maximal value of |D_(14, 9, a)| is:\n",
      "    298\n",
      "This maximum is reached at the following values for (p, q, r):\n",
      "    [(1, 6, 0), (6, 1, 0)]\n"
     ]
    }
   ],
   "source": [
    "n = 14\n",
    "k = 9\n",
    "\n",
    "tuples_pqr = []  # Collect the tuples (p, q, r)\n",
    "abs_coeffs = []  # Collect the |D_(n, k, a)| for these tuples (p, q, r)\n",
    "\n",
    "for p in range(n / 2 + 1):\n",
    "    for q in range(n / 2 + 1):\n",
    "        r = n / 2 - p - q\n",
    "        if r < 0:\n",
    "            continue\n",
    "        tuples_pqr.append((p, q, r))\n",
    "        abs_coeffs.append(abs(P_a(p=p, q=q, r=r).list()[k]))\n",
    "\n",
    "max_value = max(abs_coeffs)\n",
    "max_indices = [i for i, value in enumerate(abs_coeffs) if value == max_value]\n",
    "print(f\"The maximal value of |D_({n}, {k}, a)| is:\\n    {max_value}\")\n",
    "print(\n",
    "    f\"This maximum is reached at the following values for (p, q, r):\\n    {[tuples_pqr[i] for i in max_indices]}\"\n",
    ")"
   ]
  }
 ],
 "metadata": {
  "kernelspec": {
   "display_name": "SageMath 10.0",
   "language": "sage",
   "name": "SageMath-10.0"
  },
  "language_info": {
   "codemirror_mode": {
    "name": "ipython",
    "version": 3
   },
   "file_extension": ".py",
   "mimetype": "text/x-python",
   "name": "python",
   "nbconvert_exporter": "python",
   "pygments_lexer": "ipython3",
   "version": "3.11.1"
  }
 },
 "nbformat": 4,
 "nbformat_minor": 4
}

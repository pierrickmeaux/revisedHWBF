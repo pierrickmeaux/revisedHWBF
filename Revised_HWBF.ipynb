{
 "cells": [
  {
   "cell_type": "markdown",
   "metadata": {},
   "source": [
    "# Revised Hidden Weight Boolean Function"
   ]
  },
  {
   "cell_type": "markdown",
   "metadata": {},
   "source": [
    "Define variables:"
   ]
  },
  {
   "cell_type": "code",
   "execution_count": 99,
   "metadata": {},
   "outputs": [],
   "source": [
    "z, p, q, r, u, v = var(\"z p q r u v\")"
   ]
  },
  {
   "cell_type": "markdown",
   "metadata": {},
   "source": [
    "For an even integer $n\\geq 0$ and a Boolean vector $a=(a_i)_{i\\in[1,n]}\\in\\mathbb F_2^n$, define:\n",
    "- $p=p(a)$ to be the number of odd integers $i$ with $(a_i,a_{i+1})=(0,0)$.\n",
    "- $q=q(a)$ to be the number of odd integers $i$ with $(a_i,a_{i+1})=(1,1)$.\n",
    "- $r=p(a)$ to be the number of odd integers $i$ with $(a_i,a_{i+1})\\in\\{(0,1),(1,0)\\}$.\n",
    "\n",
    "It then holds that $p+q+r=n/2$. Consider then the polynomial $P_a(z)=(-z^2+2z+1)^p\\cdot(-z^2-2z+1)^q\\cdot(z^2+1)^r$. We can then write:\n",
    "$$P_a(z)=\\sum_{k=0}^n\\mathsf D_{n,k,a}z^k,\\qquad\\mathsf D_{n,k,a}\\in\\mathbb Z.$$"
   ]
  },
  {
   "cell_type": "code",
   "execution_count": 100,
   "metadata": {},
   "outputs": [],
   "source": [
    "P_a = (-z ^ 2 + 2 * z + 1) ^ p * (-z ^ 2 - 2 * z + 1) ^ q * (z ^ 2 + 1) ^ r"
   ]
  },
  {
   "cell_type": "markdown",
   "metadata": {},
   "source": [
    "Through derivation, we can get $\\mathsf D_{n,k,a}$ explicitly for small $k$:"
   ]
  },
  {
   "cell_type": "code",
   "execution_count": 101,
   "metadata": {},
   "outputs": [
    {
     "name": "stdout",
     "output_type": "stream",
     "text": [
      "D_(n, 3, a) equals:\n",
      "    2/3*(2*p^2 - 4*p*q + 2*q^2 - 9*p - 9*q + 3*r + 7)*(p - q)\n"
     ]
    }
   ],
   "source": [
    "k = 3\n",
    "\n",
    "D_nka = diff(P_a, z, k)(z=0) / factorial(k)\n",
    "print(f\"D_(n, {k}, a) equals:\\n    {D_nka.expand().factor()}\")"
   ]
  },
  {
   "cell_type": "markdown",
   "metadata": {},
   "source": [
    "For a given $n$, the following outputs $\\mathsf D_{n,k,a}$ for all $k\\in[0,n/2]$:"
   ]
  },
  {
   "cell_type": "code",
   "execution_count": 102,
   "metadata": {},
   "outputs": [
    {
     "name": "stdout",
     "output_type": "stream",
     "text": [
      "D_(16, 0, a) equals:\n",
      "    1\n",
      "D_(16, 1, a) equals:\n",
      "    2*p - 2*q\n",
      "D_(16, 2, a) equals:\n",
      "    2*p^2 - 4*p*q + 2*q^2 - 4*p - 4*q + 8\n",
      "D_(16, 3, a) equals:\n",
      "    2/3*(2*p^2 - 4*p*q + 2*q^2 - 12*p - 12*q + 31)*(p - q)\n",
      "D_(16, 4, a) equals:\n",
      "    2/3*p^4 - 8/3*p^3*q + 4*p^2*q^2 - 8/3*p*q^3 + 2/3*q^4 - 8*p^3 + 8*p^2*q + 8*p*q^2 - 8*q^3 + 100/3*p^2 - 104/3*p*q + 100/3*q^2 - 40*p - 40*q + 28\n",
      "D_(16, 5, a) equals:\n",
      "    2/15*(2*p^4 - 8*p^3*q + 12*p^2*q^2 - 8*p*q^3 + 2*q^4 - 40*p^3 + 40*p^2*q + 40*p*q^2 - 40*q^3 + 270*p^2 - 60*p*q + 270*q^2 - 740*p - 740*q + 823)*(p - q)\n",
      "D_(16, 6, a) equals:\n",
      "    4/45*p^6 - 8/15*p^5*q + 4/3*p^4*q^2 - 16/9*p^3*q^3 + 4/3*p^2*q^4 - 8/15*p*q^5 + 4/45*q^6 - 8/3*p^5 + 8*p^4*q - 16/3*p^3*q^2 - 16/3*p^2*q^3 + 8*p*q^4 - 8/3*q^5 + 248/9*p^4 - 416/9*p^3*q + 112/3*p^2*q^2 - 416/9*p*q^3 + 248/9*q^4 - 128*p^3 + 256/3*p^2*q + 256/3*p*q^2 - 128*q^3 + 12166/45*p^2 - 7052/45*p*q + 12166/45*q^2 - 628/3*p - 628/3*q + 56\n",
      "D_(16, 7, a) equals:\n",
      "    2/315*(4*p^6 - 24*p^5*q + 60*p^4*q^2 - 80*p^3*q^3 + 60*p^2*q^4 - 24*p*q^5 + 4*q^6 - 168*p^5 + 504*p^4*q - 336*p^3*q^2 - 336*p^2*q^3 + 504*p*q^4 - 168*q^5 + 2506*p^4 - 3304*p^3*q + 1596*p^2*q^2 - 3304*p*q^3 + 2506*q^4 - 17640*p^3 + 4200*p^2*q + 4200*p*q^2 - 17640*q^3 + 62356*p^2 + 19768*p*q + 62356*q^2 - 105672*p - 105672*q + 69639)*(p - q)\n",
      "D_(16, 8, a) equals:\n",
      "    2/315*p^8 - 16/315*p^7*q + 8/45*p^6*q^2 - 16/45*p^5*q^3 + 4/9*p^4*q^4 - 16/45*p^3*q^5 + 8/45*p^2*q^6 - 16/315*p*q^7 + 2/315*q^8 - 16/45*p^7 + 16/9*p^6*q - 16/5*p^5*q^2 + 16/9*p^4*q^3 + 16/9*p^3*q^4 - 16/5*p^2*q^5 + 16/9*p*q^6 - 16/45*q^7 + 328/45*p^6 - 112/5*p^5*q + 24*p^4*q^2 - 160/9*p^3*q^3 + 24*p^2*q^4 - 112/5*p*q^5 + 328/45*q^6 - 656/9*p^5 + 400/3*p^4*q - 544/9*p^3*q^2 - 544/9*p^2*q^3 + 400/3*p*q^4 - 656/9*q^5 + 17524/45*p^4 - 18256/45*p^3*q + 1016/5*p^2*q^2 - 18256/45*p*q^3 + 17524/45*q^4 - 50224/45*p^3 + 23344/45*p^2*q + 23344/45*p*q^2 - 50224/45*q^3 + 498104/315*p^2 - 183088/315*p*q + 498104/315*q^2 - 2576/3*p - 2576/3*q + 70\n"
     ]
    }
   ],
   "source": [
    "n = 16\n",
    "\n",
    "for k in range(n / 2 + 1):\n",
    "    D_nka = diff(P_a, z, k)(z=0) / factorial(k)\n",
    "    print(f\"D_({n}, {k}, a) equals:\\n    {D_nka.expand().subs(r=n/2-p-q).factor()}\")"
   ]
  },
  {
   "cell_type": "markdown",
   "metadata": {},
   "source": [
    "It may be useful to express $\\mathsf D_{n,k,a}$ not as a polynomial in $p, q, r$, but rather as a polynomial in $u,v,r$ with $u=p-q$ and $v=p+q$:"
   ]
  },
  {
   "cell_type": "code",
   "execution_count": 103,
   "metadata": {},
   "outputs": [
    {
     "name": "stdout",
     "output_type": "stream",
     "text": [
      "D_(n, 3, a) equals:\n",
      "    2/3*(2*u^2 + 3*r - 9*v + 7)*u\n"
     ]
    }
   ],
   "source": [
    "k = 3\n",
    "\n",
    "D_nka = diff(P_a, z, k)(z=0) / factorial(k)\n",
    "D_nka = D_nka.subs(p=(v + u) / 2, q=(v - u) / 2)\n",
    "print(f\"D_(n, {k}, a) equals:\\n    {D_nka.expand().factor()}\")"
   ]
  },
  {
   "cell_type": "markdown",
   "metadata": {},
   "source": [
    "For every $k\\in[0,n]$, let $\\mathsf M_{n,k}=\\max_a\\mathsf D_{n,k,a}$ and $\\mathsf N_{n,k}=\\min_a\\mathsf D_{n,k,a}$. The following computes $\\mathsf M_{n,k}$ and $\\mathsf N_{n,k}$ for every $k$, and also finds the tuples $(p,q,r)$ for which $\\mathsf D_{n,k,a}=\\mathsf M_{n,k}$ and for which $\\mathsf D_{n,k,a}=\\mathsf N_{n,k}$."
   ]
  },
  {
   "cell_type": "code",
   "execution_count": 104,
   "metadata": {},
   "outputs": [],
   "source": [
    "n = 50\n",
    "\n",
    "max_pqr = [[] for k in range(n + 1)]\n",
    "M_nk = [0 for k in range(n + 1)]\n",
    "min_pqr = [[] for k in range(n + 1)]\n",
    "N_nk = [0 for k in range(n + 1)]\n",
    "\n",
    "for p in range(n / 2 + 1):\n",
    "    for q in range(n / 2 + 1):\n",
    "        r = n / 2 - p - q\n",
    "        if r < 0:\n",
    "            continue\n",
    "        coeffs = P_a(p=p, q=q, r=r).list()\n",
    "        for k in range(n + 1):\n",
    "            if coeffs[k] == M_nk[k]:\n",
    "                max_pqr[k].append((p, q, r))\n",
    "            elif coeffs[k] > M_nk[k]:\n",
    "                max_pqr[k] = [(p, q, r)]\n",
    "                M_nk[k] = coeffs[k]\n",
    "            if coeffs[k] == N_nk[k]:\n",
    "                min_pqr[k].append((p, q, r))\n",
    "            elif coeffs[k] < N_nk[k]:\n",
    "                min_pqr[k] = [(p, q, r)]\n",
    "                N_nk[k] = coeffs[k]"
   ]
  },
  {
   "cell_type": "markdown",
   "metadata": {},
   "source": [
    "We can then plot the points $(k,\\mathsf M_{n,k})$ and the points $(k,\\mathsf N_{n,k})$."
   ]
  },
  {
   "cell_type": "code",
   "execution_count": 105,
   "metadata": {},
   "outputs": [
    {
     "name": "stdout",
     "output_type": "stream",
     "text": [
      "Plotting the points (k, M_(n, k)) for every k:\n"
     ]
    },
    {
     "data": {
      "image/png": "[encoded data removed]",
      "text/plain": [
       "Graphics object consisting of 1 graphics primitive"
      ]
     },
     "metadata": {},
     "output_type": "display_data"
    },
    {
     "name": "stdout",
     "output_type": "stream",
     "text": [
      "Plotting the points (k, N_(n, k)) for every k:\n"
     ]
    },
    {
     "data": {
      "image/png": "[encoded data removed]",
      "text/plain": [
       "Graphics object consisting of 1 graphics primitive"
      ]
     },
     "metadata": {},
     "output_type": "display_data"
    }
   ],
   "source": [
    "print(\"Plotting the points (k, M_(n, k)) for every k:\")\n",
    "show(list_plot(M_nk))\n",
    "print(\"Plotting the points (k, N_(n, k)) for every k:\")\n",
    "show(list_plot(N_nk))"
   ]
  },
  {
   "cell_type": "markdown",
   "metadata": {},
   "source": [
    "We conjecture that the values of $\\sum_{k=0}^n\\mathsf M_{n,k}$ and $-\\sum_{k=0}^n\\mathsf N_{n,k}$ are bounded by $2^{3n/4+2}$:"
   ]
  },
  {
   "cell_type": "code",
   "execution_count": 106,
   "metadata": {},
   "outputs": [
    {
     "name": "stdout",
     "output_type": "stream",
     "text": [
      "The sum of the M_(50,k) is equal to 2^(3*50/4 + 1.05)\n",
      "The sum of the - N_(50,k) is equal to 2^(3*50/4 + 1.05)\n"
     ]
    }
   ],
   "source": [
    "print(\n",
    "    f\"The sum of the M_({n},k) is equal to 2^(3*{n}/4 + {(log(sum(M_nk), 2) - 3 * n / 4).n(digits=3)})\"\n",
    ")\n",
    "print(\n",
    "    f\"The sum of the - N_({n},k) is equal to 2^(3*{n}/4 + {(log(-sum(N_nk), 2) - 3 * n / 4).n(digits=3)})\"\n",
    ")"
   ]
  }
 ],
 "metadata": {
  "kernelspec": {
   "display_name": "SageMath 10.0",
   "language": "sage",
   "name": "SageMath-10.0"
  },
  "language_info": {
   "codemirror_mode": {
    "name": "ipython",
    "version": 3
   },
   "file_extension": ".py",
   "mimetype": "text/x-python",
   "name": "python",
   "nbconvert_exporter": "python",
   "pygments_lexer": "ipython3",
   "version": "3.11.1"
  }
 },
 "nbformat": 4,
 "nbformat_minor": 4
}

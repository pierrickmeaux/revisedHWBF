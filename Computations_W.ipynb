{
 "cells": [
  {
   "cell_type": "markdown",
   "metadata": {},
   "source": [
    "Import packages:"
   ]
  },
  {
   "cell_type": "code",
   "execution_count": 487,
   "metadata": {},
   "outputs": [],
   "source": [
    "from itertools import product\n",
    "from sage.crypto.boolean_function import BooleanFunction"
   ]
  },
  {
   "cell_type": "markdown",
   "metadata": {},
   "source": [
    "Define an even integer $n\\geq 2$:"
   ]
  },
  {
   "cell_type": "code",
   "execution_count": 488,
   "metadata": {},
   "outputs": [],
   "source": [
    "n = 20\n",
    "n_half = n // 2"
   ]
  },
  {
   "cell_type": "markdown",
   "metadata": {},
   "source": [
    "For a Boolean vector $a=(a_i)_{i\\in[1,n]}\\in\\mathbb F_2^n$, define:\n",
    "- $p=p(a)$ to be the number of odd integers $i$ with $(a_i,a_{i+1})=(0,0)$.\n",
    "- $q=q(a)$ to be the number of odd integers $i$ with $(a_i,a_{i+1})=(1,1)$.\n",
    "- $r=p(a)$ to be the number of odd integers $i$ with $(a_i,a_{i+1})\\in\\{(0,1),(1,0)\\}$.\n",
    "\n",
    "It then holds that $p+q+r=n/2$. Consider then the polynomial $P_a(z)=(-z^2+2z+1)^p\\cdot(-z^2-2z+1)^q\\cdot(z^2+1)^r$. We can write:\n",
    "$$P_a(z)=\\sum_{k=0}^n\\mathsf D_{n,k,a}z^k,\\qquad\\mathsf D_{n,k,a}\\in\\mathbb Z.$$"
   ]
  },
  {
   "cell_type": "code",
   "execution_count": 489,
   "metadata": {},
   "outputs": [],
   "source": [
    "D = {}\n",
    "\n",
    "z = var(\"z\")\n",
    "P = -(z**2) + 2 * z + 1\n",
    "Q = -(z**2) - 2 * z + 1\n",
    "R = z**2 + 1\n",
    "\n",
    "powers_P = [1]\n",
    "powers_Q = [1]\n",
    "powers_R = [1]\n",
    "\n",
    "for r in range(1, n_half + 1):\n",
    "    powers_P.append((powers_P[r - 1] * P).expand())\n",
    "    powers_Q.append((powers_Q[r - 1] * Q).expand())\n",
    "    powers_R.append((powers_R[r - 1] * R).expand())\n",
    "\n",
    "for p in range(n_half + 1):\n",
    "    for q in range(n_half - p + 1):\n",
    "        r = n_half - p - q\n",
    "        D[p, q] = (powers_P[p] * powers_Q[q] * powers_R[r]).list()"
   ]
  },
  {
   "cell_type": "markdown",
   "metadata": {},
   "source": [
    "# Bounding the Walsh transform"
   ]
  },
  {
   "cell_type": "markdown",
   "metadata": {},
   "source": [
    "For $a\\in\\mathbb F_2^n$, we define the following (modified) Walsh transform:\n",
    "$$V(a)=1+\\sum_{k=1}^n\\mathsf D_{n,k,a+g_k},$$\n",
    "where $g_k\\in\\mathbb F_2^n$ is the canonical basis vector having its $1$ at position $2k-1$ if $k\\leq n/2$, and at position $2k-n$ if $k>n/2$."
   ]
  },
  {
   "cell_type": "markdown",
   "metadata": {},
   "source": [
    "The following finds a bound on $\\max_{a\\in\\mathbb F_2^n}|V(a)|$:"
   ]
  },
  {
   "cell_type": "code",
   "execution_count": 490,
   "metadata": {},
   "outputs": [],
   "source": [
    "def get_bound_V():\n",
    "    upper_bounds = []\n",
    "    lower_bounds = []\n",
    "    for p in range(n_half + 1):\n",
    "        for q in range(n_half - p + 1):\n",
    "            tuples = []\n",
    "            if p > 0:\n",
    "                tuples.append((p - 1, q, p - 1, q))\n",
    "            if q > 0:\n",
    "                tuples.append((p, q - 1, p, q - 1))\n",
    "            if p + q < n_half:\n",
    "                tuples.append((p + 1, q, p, q + 1))\n",
    "                tuples.append((p, q + 1, p + 1, q))\n",
    "            upper_bound_pq = 0\n",
    "            lower_bound_pq = 0\n",
    "            for k in range(0, n_half + 1):\n",
    "                upper_bound_pq += max(\n",
    "                    D[p_1, q_1][k] + D[p_2, q_2][k + n_half]\n",
    "                    for (p_1, q_1, p_2, q_2) in tuples\n",
    "                )\n",
    "                lower_bound_pq += min(\n",
    "                    D[p_1, q_1][k] + D[p_2, q_2][k + n_half]\n",
    "                    for (p_1, q_1, p_2, q_2) in tuples\n",
    "                )\n",
    "            upper_bounds.append(upper_bound_pq)\n",
    "            lower_bounds.append(lower_bound_pq)\n",
    "    U = max(upper_bounds)\n",
    "    L = min(lower_bounds)\n",
    "    return max(abs(U), abs(L))"
   ]
  },
  {
   "cell_type": "code",
   "execution_count": 491,
   "metadata": {},
   "outputs": [
    {
     "data": {
      "text/plain": [
       "392168"
      ]
     },
     "execution_count": 491,
     "metadata": {},
     "output_type": "execute_result"
    }
   ],
   "source": [
    "get_bound_V()"
   ]
  },
  {
   "cell_type": "markdown",
   "metadata": {},
   "source": [
    "# Computing the Walsh transform using polynomials"
   ]
  },
  {
   "cell_type": "markdown",
   "metadata": {},
   "source": [
    "We see a vector $a\\in\\mathbb F_2^n$ as an element $\\hat a\\in\\{0,1,2,3\\}^{n/2}$, so that for $i\\in[1,n/2]$, we have $\\hat a_i= 2a_{2i-1}+a_{2i}$. More precisely:\n",
    "- $\\hat a_i=0\\iff(a_{2i-1},a_{2i})=(0,0)$.\n",
    "- $\\hat a_i=1\\iff(a_{2i-1},a_{2i})=(0,1)$.\n",
    "- $\\hat a_i=2\\iff(a_{2i-1},a_{2i})=(1,0)$.\n",
    "- $\\hat a_i=3\\iff(a_{2i-1},a_{2i})=(1,1)$."
   ]
  },
  {
   "cell_type": "code",
   "execution_count": 430,
   "metadata": {},
   "outputs": [],
   "source": [
    "encoded_binary_vectors_temp = product(range(0, 4), repeat=n_half)\n",
    "encoded_binary_vectors = [tuple(x) for x in encoded_binary_vectors_temp]"
   ]
  },
  {
   "cell_type": "markdown",
   "metadata": {},
   "source": [
    "Given $\\hat a\\in\\{0,1,2,3\\}^{n/2}$, the following determines $p(a)$ and $q(a)$:"
   ]
  },
  {
   "cell_type": "code",
   "execution_count": 431,
   "metadata": {},
   "outputs": [],
   "source": [
    "def get_pq(a_hat):\n",
    "    return a_hat.count(0), a_hat.count(3)"
   ]
  },
  {
   "cell_type": "markdown",
   "metadata": {},
   "source": [
    "The following computes $V(a)$ given $\\hat a\\in\\{0,1,2,3\\}^{n/2}$:"
   ]
  },
  {
   "cell_type": "code",
   "execution_count": 432,
   "metadata": {},
   "outputs": [],
   "source": [
    "def get_V(a_hat):\n",
    "    V = 1\n",
    "    p, q = get_pq(a_hat)\n",
    "    for k in range(1, n_half + 1):\n",
    "        x = a_hat[k - 1]\n",
    "        if x == 0:\n",
    "            p_1, q_1 = p - 1, q\n",
    "            p_2, q_2 = p_1, q\n",
    "        elif x == 1:\n",
    "            p_1, q_1 = p, q + 1\n",
    "            p_2, q_2 = p + 1, q\n",
    "        elif x == 2:\n",
    "            p_1, q_1 = p + 1, q\n",
    "            p_2, q_2 = p, q + 1\n",
    "        else:\n",
    "            p_1, q_1 = p, q - 1\n",
    "            p_2, q_2 = p, q_1\n",
    "        V += D[p_1, q_1][k] + D[p_2, q_2][k + n_half]\n",
    "    return V"
   ]
  },
  {
   "cell_type": "markdown",
   "metadata": {},
   "source": [
    "The following computes $\\max_{a\\in\\mathbb F_2^n}|V(a)|$:"
   ]
  },
  {
   "cell_type": "code",
   "execution_count": 433,
   "metadata": {},
   "outputs": [
    {
     "data": {
      "text/plain": [
       "2"
      ]
     },
     "execution_count": 433,
     "metadata": {},
     "output_type": "execute_result"
    }
   ],
   "source": [
    "all_V = []\n",
    "for a_hat in encoded_binary_vectors:\n",
    "    all_V.append(get_V(a_hat))\n",
    "max(abs(v) for v in all_V)"
   ]
  },
  {
   "cell_type": "markdown",
   "metadata": {},
   "source": [
    "# Computing the Walsh transform using existing modulues"
   ]
  },
  {
   "cell_type": "code",
   "execution_count": 434,
   "metadata": {},
   "outputs": [],
   "source": [
    "binary_vectors_temp = product(range(0, 2), repeat=n)\n",
    "binary_vectors = [tuple(x) for x in binary_vectors_temp]"
   ]
  },
  {
   "cell_type": "markdown",
   "metadata": {},
   "source": [
    "Up to permutation of the entries of $a\\in\\mathbb F_2^n$, the value $V(a)$ is the Walsh transform $W_f(a)$ of the following Boolean function:"
   ]
  },
  {
   "cell_type": "code",
   "execution_count": 435,
   "metadata": {},
   "outputs": [],
   "source": [
    "def deng(x):\n",
    "    return (sum((1 - x[i]) * x[i + n_half] for i in range(n_half)) + x[sum(x) - 1]) % 2\n",
    "\n",
    "\n",
    "f = BooleanFunction([deng(x[::-1]) for x in binary_vectors])"
   ]
  },
  {
   "cell_type": "markdown",
   "metadata": {},
   "source": [
    "The following computes $\\max_{a\\in\\mathbb F_2^n}|W_f(a)|$:"
   ]
  },
  {
   "cell_type": "code",
   "execution_count": 436,
   "metadata": {},
   "outputs": [
    {
     "data": {
      "text/plain": [
       "2"
      ]
     },
     "execution_count": 436,
     "metadata": {},
     "output_type": "execute_result"
    }
   ],
   "source": [
    "all_W = f.walsh_hadamard_transform()\n",
    "max([abs(w) for w in all_W])"
   ]
  }
 ],
 "metadata": {
  "kernelspec": {
   "display_name": "SageMath 10.0",
   "language": "sage",
   "name": "SageMath-10.0"
  },
  "language_info": {
   "codemirror_mode": {
    "name": "ipython",
    "version": 3
   },
   "file_extension": ".py",
   "mimetype": "text/x-python",
   "name": "python",
   "nbconvert_exporter": "python",
   "pygments_lexer": "ipython3",
   "version": "3.11.1"
  }
 },
 "nbformat": 4,
 "nbformat_minor": 4
}

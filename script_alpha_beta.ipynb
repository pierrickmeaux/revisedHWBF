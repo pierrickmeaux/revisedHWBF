{
 "cells": [
  {
   "cell_type": "code",
   "execution_count": 1,
   "metadata": {},
   "outputs": [],
   "source": [
    "z, x = var(\"z,x\")\n",
    "\n",
    "P0 = -(z**2) + 2 * z + 1\n",
    "P1 = -(z**2) - 2 * z + 1\n",
    "P2 = z**2 + 1\n",
    "Q = z + 1\n",
    "\n",
    "polys = [P0, P1, P2]\n",
    "trigos = [\n",
    "    (P(z=cos(x) + I * sin(x)) * P(z=cos(x) - I * sin(x))).expand()\n",
    "    for P in polys\n",
    "]\n",
    "T = Q(z=cos(x) + I * sin(x)) * Q(z=cos(x) - I * sin(x))"
   ]
  },
  {
   "cell_type": "code",
   "execution_count": 3,
   "metadata": {},
   "outputs": [
    {
     "name": "stdout",
     "output_type": "stream",
     "text": [
      "0.785801290985810\n"
     ]
    }
   ],
   "source": [
    "t_over_n = [2, 9]  # ratio t/n\n",
    "\n",
    "if 2 * t_over_n[0] > t_over_n[1]:\n",
    "    raise ValueError(\"Ratio too large, can be at most 1/2.\")\n",
    "\n",
    "d = gcd(t_over_n)\n",
    "t_over_n[0] /= d\n",
    "t_over_n[1] /= d\n",
    "\n",
    "maxima = []\n",
    "\n",
    "for i in range(3):\n",
    "    f = (\n",
    "        trigos[i] ** t_over_n[0] * T ** (t_over_n[1] - 2 * t_over_n[0])\n",
    "    ).expand()\n",
    "    maxima.append(find_local_maximum(f, 0, 2 * pi)[0])\n",
    "\n",
    "print((log(max(maxima), 2) / (2 * t_over_n[1])).n())"
   ]
  }
 ],
 "metadata": {
  "kernelspec": {
   "display_name": "SageMath 10.0",
   "language": "sage",
   "name": "SageMath-10.0"
  },
  "language_info": {
   "codemirror_mode": {
    "name": "ipython",
    "version": 3
   },
   "file_extension": ".py",
   "mimetype": "text/x-python",
   "name": "python",
   "nbconvert_exporter": "python",
   "pygments_lexer": "ipython3",
   "version": "3.11.1"
  }
 },
 "nbformat": 4,
 "nbformat_minor": 4
}
